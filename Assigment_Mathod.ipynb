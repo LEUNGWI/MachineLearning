{
 "cells": [
  {
   "cell_type": "markdown",
   "metadata": {
    "tags": []
   },
   "source": [
    "# Question 3\n",
    "Ticket Pricing for Top 1000 Contiguous State City Pairs in Domestic Routes, USA 2021, quarter 4\n",
    "\n",
    "\n",
    "### Part 2: Data Requirements"
   ]
  },
  {
   "cell_type": "markdown",
   "metadata": {
    "tags": []
   },
   "source": [
    " | Variable| Description|\n",
    " | -------------- | ------------- |  \n",
    " | year |year|                                                    | quarter | Quarter | \n",
    " | Citymarketid_1 | City Market ID and identification number assigned by US..|\n",
    " | Citymarketid_2 | City Market ID and identification number assigned by us.. |\n",
    " | City1 | City is used to consolidate airports serving the same city..|\n",
    " | City2 | City is used to consolidate airports serving the same city..|\n",
    " |nsmiles | Non-Stop market miles (using radian measure) |\n",
    " | pressengers | pressenger per day |\n",
    " | fare |Overall average fare|\n",
    " |Carrier_lg | Carrier with the the largest market share |\n",
    " |large_ms | Market share for the carrier with the largest market share |\n",
    " | fare_lg | Average fare for the carrier with the largest market share |\n",
    " | carrier_low | Carrier with the lowest fare |\n",
    " | if_ms | Market share for the carrier with lowest fare |\n",
    " | fare_low | Average fare for the carrier with lowest fare |\n",
    " | table_1_flag | Flag for Table 1 subset. Top 1,000 Contiguous State City pairs | "
   ]
  },
  {
   "cell_type": "code",
   "execution_count": 1,
   "metadata": {},
   "outputs": [
    {
     "name": "stdout",
     "output_type": "stream",
     "text": [
      "Requirement already satisfied: scikit-learn in ./opt/anaconda3/lib/python3.9/site-packages (1.1.1)\n",
      "Requirement already satisfied: numpy>=1.17.3 in ./opt/anaconda3/lib/python3.9/site-packages (from scikit-learn) (1.20.3)\n",
      "Requirement already satisfied: joblib>=1.0.0 in ./opt/anaconda3/lib/python3.9/site-packages (from scikit-learn) (1.1.0)\n",
      "Requirement already satisfied: scipy>=1.3.2 in ./opt/anaconda3/lib/python3.9/site-packages (from scikit-learn) (1.7.1)\n",
      "Requirement already satisfied: threadpoolctl>=2.0.0 in ./opt/anaconda3/lib/python3.9/site-packages (from scikit-learn) (2.2.0)\n"
     ]
    }
   ],
   "source": [
    "!pip install -U scikit-learn"
   ]
  },
  {
   "cell_type": "code",
   "execution_count": 84,
   "metadata": {},
   "outputs": [],
   "source": [
    "import pandas as pd\n",
    "import matplotlib.pyplot as plt\n",
    "import numpy as np\n",
    "import seaborn as sns\n",
    "from sklearn.pipeline import Pipeline\n",
    "from sklearn.preprocessing import StandardScaler,PolynomialFeatures\n",
    "from sklearn.linear_model import LinearRegression\n",
    "%matplotlib inline"
   ]
  },
  {
   "cell_type": "markdown",
   "metadata": {},
   "source": [
    "# Importing Data Sets\n"
   ]
  },
  {
   "cell_type": "markdown",
   "metadata": {},
   "source": [
    "### Part 3: Data Collection\n",
    "Load the json:\n"
   ]
  },
  {
   "cell_type": "code",
   "execution_count": 69,
   "metadata": {
    "collapsed": false,
    "jupyter": {
     "outputs_hidden": false
    }
   },
   "outputs": [],
   "source": [
    "path = 'https://data.transportation.gov/resource/4f3n-jbg2.json'\n",
    "df = pd.read_json(path)"
   ]
  },
  {
   "cell_type": "code",
   "execution_count": 70,
   "metadata": {},
   "outputs": [
    {
     "data": {
      "text/html": [
       "<div>\n",
       "<style scoped>\n",
       "    .dataframe tbody tr th:only-of-type {\n",
       "        vertical-align: middle;\n",
       "    }\n",
       "\n",
       "    .dataframe tbody tr th {\n",
       "        vertical-align: top;\n",
       "    }\n",
       "\n",
       "    .dataframe thead th {\n",
       "        text-align: right;\n",
       "    }\n",
       "</style>\n",
       "<table border=\"1\" class=\"dataframe\">\n",
       "  <thead>\n",
       "    <tr style=\"text-align: right;\">\n",
       "      <th></th>\n",
       "      <th>year</th>\n",
       "      <th>quarter</th>\n",
       "      <th>citymarketid_1</th>\n",
       "      <th>citymarketid_2</th>\n",
       "      <th>city1</th>\n",
       "      <th>city2</th>\n",
       "      <th>nsmiles</th>\n",
       "      <th>passengers</th>\n",
       "      <th>fare</th>\n",
       "      <th>carrier_lg</th>\n",
       "      <th>large_ms</th>\n",
       "      <th>fare_lg</th>\n",
       "      <th>carrier_low</th>\n",
       "      <th>lf_ms</th>\n",
       "      <th>fare_low</th>\n",
       "      <th>table_1_flag</th>\n",
       "    </tr>\n",
       "  </thead>\n",
       "  <tbody>\n",
       "    <tr>\n",
       "      <th>0</th>\n",
       "      <td>2021</td>\n",
       "      <td>4</td>\n",
       "      <td>32467</td>\n",
       "      <td>31703</td>\n",
       "      <td>Miami, FL (Metropolitan Area)</td>\n",
       "      <td>New York City, NY (Metropolitan Area)</td>\n",
       "      <td>1139</td>\n",
       "      <td>16203.369570</td>\n",
       "      <td>168.443679</td>\n",
       "      <td>B6</td>\n",
       "      <td>0.326355</td>\n",
       "      <td>149.470002</td>\n",
       "      <td>B6</td>\n",
       "      <td>0.326355</td>\n",
       "      <td>149.470002</td>\n",
       "      <td>-1</td>\n",
       "    </tr>\n",
       "    <tr>\n",
       "      <th>1</th>\n",
       "      <td>2021</td>\n",
       "      <td>4</td>\n",
       "      <td>32575</td>\n",
       "      <td>32457</td>\n",
       "      <td>Los Angeles, CA (Metropolitan Area)</td>\n",
       "      <td>San Francisco, CA (Metropolitan Area)</td>\n",
       "      <td>372</td>\n",
       "      <td>13816.521740</td>\n",
       "      <td>131.529620</td>\n",
       "      <td>WN</td>\n",
       "      <td>0.605262</td>\n",
       "      <td>125.510351</td>\n",
       "      <td>WN</td>\n",
       "      <td>0.605262</td>\n",
       "      <td>125.510351</td>\n",
       "      <td>-1</td>\n",
       "    </tr>\n",
       "    <tr>\n",
       "      <th>2</th>\n",
       "      <td>2021</td>\n",
       "      <td>4</td>\n",
       "      <td>32575</td>\n",
       "      <td>31703</td>\n",
       "      <td>Los Angeles, CA (Metropolitan Area)</td>\n",
       "      <td>New York City, NY (Metropolitan Area)</td>\n",
       "      <td>2510</td>\n",
       "      <td>11944.782610</td>\n",
       "      <td>341.074980</td>\n",
       "      <td>UA</td>\n",
       "      <td>0.277991</td>\n",
       "      <td>320.647700</td>\n",
       "      <td>B6</td>\n",
       "      <td>0.261684</td>\n",
       "      <td>299.356984</td>\n",
       "      <td>-1</td>\n",
       "    </tr>\n",
       "    <tr>\n",
       "      <th>3</th>\n",
       "      <td>2021</td>\n",
       "      <td>4</td>\n",
       "      <td>31703</td>\n",
       "      <td>31454</td>\n",
       "      <td>New York City, NY (Metropolitan Area)</td>\n",
       "      <td>Orlando, FL</td>\n",
       "      <td>989</td>\n",
       "      <td>9709.347826</td>\n",
       "      <td>154.128011</td>\n",
       "      <td>B6</td>\n",
       "      <td>0.360522</td>\n",
       "      <td>156.056453</td>\n",
       "      <td>B6</td>\n",
       "      <td>0.360522</td>\n",
       "      <td>156.056453</td>\n",
       "      <td>-1</td>\n",
       "    </tr>\n",
       "    <tr>\n",
       "      <th>4</th>\n",
       "      <td>2021</td>\n",
       "      <td>4</td>\n",
       "      <td>30977</td>\n",
       "      <td>31703</td>\n",
       "      <td>Chicago, IL</td>\n",
       "      <td>New York City, NY (Metropolitan Area)</td>\n",
       "      <td>773</td>\n",
       "      <td>7842.826087</td>\n",
       "      <td>159.425601</td>\n",
       "      <td>UA</td>\n",
       "      <td>0.355767</td>\n",
       "      <td>163.772739</td>\n",
       "      <td>DL</td>\n",
       "      <td>0.195900</td>\n",
       "      <td>159.819986</td>\n",
       "      <td>-1</td>\n",
       "    </tr>\n",
       "  </tbody>\n",
       "</table>\n",
       "</div>"
      ],
      "text/plain": [
       "   year  quarter  citymarketid_1  citymarketid_2  \\\n",
       "0  2021        4           32467           31703   \n",
       "1  2021        4           32575           32457   \n",
       "2  2021        4           32575           31703   \n",
       "3  2021        4           31703           31454   \n",
       "4  2021        4           30977           31703   \n",
       "\n",
       "                                   city1  \\\n",
       "0          Miami, FL (Metropolitan Area)   \n",
       "1    Los Angeles, CA (Metropolitan Area)   \n",
       "2    Los Angeles, CA (Metropolitan Area)   \n",
       "3  New York City, NY (Metropolitan Area)   \n",
       "4                            Chicago, IL   \n",
       "\n",
       "                                   city2  nsmiles    passengers        fare  \\\n",
       "0  New York City, NY (Metropolitan Area)     1139  16203.369570  168.443679   \n",
       "1  San Francisco, CA (Metropolitan Area)      372  13816.521740  131.529620   \n",
       "2  New York City, NY (Metropolitan Area)     2510  11944.782610  341.074980   \n",
       "3                            Orlando, FL      989   9709.347826  154.128011   \n",
       "4  New York City, NY (Metropolitan Area)      773   7842.826087  159.425601   \n",
       "\n",
       "  carrier_lg  large_ms     fare_lg carrier_low     lf_ms    fare_low  \\\n",
       "0         B6  0.326355  149.470002          B6  0.326355  149.470002   \n",
       "1         WN  0.605262  125.510351          WN  0.605262  125.510351   \n",
       "2         UA  0.277991  320.647700          B6  0.261684  299.356984   \n",
       "3         B6  0.360522  156.056453          B6  0.360522  156.056453   \n",
       "4         UA  0.355767  163.772739          DL  0.195900  159.819986   \n",
       "\n",
       "   table_1_flag  \n",
       "0            -1  \n",
       "1            -1  \n",
       "2            -1  \n",
       "3            -1  \n",
       "4            -1  "
      ]
     },
     "execution_count": 70,
     "metadata": {},
     "output_type": "execute_result"
    }
   ],
   "source": [
    "df.head()"
   ]
  },
  {
   "cell_type": "markdown",
   "metadata": {},
   "source": [
    "### Display the size of the imported json file"
   ]
  },
  {
   "cell_type": "code",
   "execution_count": 71,
   "metadata": {
    "collapsed": false,
    "jupyter": {
     "outputs_hidden": false
    }
   },
   "outputs": [
    {
     "data": {
      "text/plain": [
       "(1000, 16)"
      ]
     },
     "execution_count": 71,
     "metadata": {},
     "output_type": "execute_result"
    }
   ],
   "source": [
    "df.shape\n"
   ]
  },
  {
   "cell_type": "code",
   "execution_count": 72,
   "metadata": {
    "collapsed": false,
    "jupyter": {
     "outputs_hidden": false
    }
   },
   "outputs": [
    {
     "data": {
      "text/plain": [
       "year                int64\n",
       "quarter             int64\n",
       "citymarketid_1      int64\n",
       "citymarketid_2      int64\n",
       "city1              object\n",
       "city2              object\n",
       "nsmiles             int64\n",
       "passengers        float64\n",
       "fare              float64\n",
       "carrier_lg         object\n",
       "large_ms          float64\n",
       "fare_lg           float64\n",
       "carrier_low        object\n",
       "lf_ms             float64\n",
       "fare_low          float64\n",
       "table_1_flag        int64\n",
       "dtype: object"
      ]
     },
     "execution_count": 72,
     "metadata": {},
     "output_type": "execute_result"
    }
   ],
   "source": [
    "df.dtypes"
   ]
  },
  {
   "cell_type": "markdown",
   "metadata": {},
   "source": [
    "We use the method describe to obtain a statistical summary of the dataframe.\n"
   ]
  },
  {
   "cell_type": "markdown",
   "metadata": {},
   "source": [
    "### Data Wrangling\n"
   ]
  },
  {
   "cell_type": "markdown",
   "metadata": {
    "tags": []
   },
   "source": [
    "### Part 4: Data Understanding and Preparation\n",
    "\n",
    "\n"
   ]
  },
  {
   "cell_type": "code",
   "execution_count": 73,
   "metadata": {
    "collapsed": false,
    "jupyter": {
     "outputs_hidden": false
    }
   },
   "outputs": [
    {
     "data": {
      "text/html": [
       "<div>\n",
       "<style scoped>\n",
       "    .dataframe tbody tr th:only-of-type {\n",
       "        vertical-align: middle;\n",
       "    }\n",
       "\n",
       "    .dataframe tbody tr th {\n",
       "        vertical-align: top;\n",
       "    }\n",
       "\n",
       "    .dataframe thead th {\n",
       "        text-align: right;\n",
       "    }\n",
       "</style>\n",
       "<table border=\"1\" class=\"dataframe\">\n",
       "  <thead>\n",
       "    <tr style=\"text-align: right;\">\n",
       "      <th></th>\n",
       "      <th>year</th>\n",
       "      <th>quarter</th>\n",
       "      <th>citymarketid_1</th>\n",
       "      <th>citymarketid_2</th>\n",
       "      <th>city1</th>\n",
       "      <th>city2</th>\n",
       "      <th>nsmiles</th>\n",
       "      <th>passengers</th>\n",
       "      <th>fare</th>\n",
       "      <th>carrier_lg</th>\n",
       "      <th>large_ms</th>\n",
       "      <th>fare_lg</th>\n",
       "      <th>carrier_low</th>\n",
       "      <th>lf_ms</th>\n",
       "      <th>fare_low</th>\n",
       "      <th>table_1_flag</th>\n",
       "    </tr>\n",
       "  </thead>\n",
       "  <tbody>\n",
       "    <tr>\n",
       "      <th>0</th>\n",
       "      <td>2021</td>\n",
       "      <td>4</td>\n",
       "      <td>32467</td>\n",
       "      <td>31703</td>\n",
       "      <td>Miami, FL (Metropolitan Area)</td>\n",
       "      <td>New York City, NY (Metropolitan Area)</td>\n",
       "      <td>1139</td>\n",
       "      <td>16203.369570</td>\n",
       "      <td>168.443679</td>\n",
       "      <td>B6</td>\n",
       "      <td>0.326355</td>\n",
       "      <td>149.470002</td>\n",
       "      <td>B6</td>\n",
       "      <td>0.326355</td>\n",
       "      <td>149.470002</td>\n",
       "      <td>-1</td>\n",
       "    </tr>\n",
       "    <tr>\n",
       "      <th>1</th>\n",
       "      <td>2021</td>\n",
       "      <td>4</td>\n",
       "      <td>32575</td>\n",
       "      <td>32457</td>\n",
       "      <td>Los Angeles, CA (Metropolitan Area)</td>\n",
       "      <td>San Francisco, CA (Metropolitan Area)</td>\n",
       "      <td>372</td>\n",
       "      <td>13816.521740</td>\n",
       "      <td>131.529620</td>\n",
       "      <td>WN</td>\n",
       "      <td>0.605262</td>\n",
       "      <td>125.510351</td>\n",
       "      <td>WN</td>\n",
       "      <td>0.605262</td>\n",
       "      <td>125.510351</td>\n",
       "      <td>-1</td>\n",
       "    </tr>\n",
       "    <tr>\n",
       "      <th>2</th>\n",
       "      <td>2021</td>\n",
       "      <td>4</td>\n",
       "      <td>32575</td>\n",
       "      <td>31703</td>\n",
       "      <td>Los Angeles, CA (Metropolitan Area)</td>\n",
       "      <td>New York City, NY (Metropolitan Area)</td>\n",
       "      <td>2510</td>\n",
       "      <td>11944.782610</td>\n",
       "      <td>341.074980</td>\n",
       "      <td>UA</td>\n",
       "      <td>0.277991</td>\n",
       "      <td>320.647700</td>\n",
       "      <td>B6</td>\n",
       "      <td>0.261684</td>\n",
       "      <td>299.356984</td>\n",
       "      <td>-1</td>\n",
       "    </tr>\n",
       "    <tr>\n",
       "      <th>3</th>\n",
       "      <td>2021</td>\n",
       "      <td>4</td>\n",
       "      <td>31703</td>\n",
       "      <td>31454</td>\n",
       "      <td>New York City, NY (Metropolitan Area)</td>\n",
       "      <td>Orlando, FL</td>\n",
       "      <td>989</td>\n",
       "      <td>9709.347826</td>\n",
       "      <td>154.128011</td>\n",
       "      <td>B6</td>\n",
       "      <td>0.360522</td>\n",
       "      <td>156.056453</td>\n",
       "      <td>B6</td>\n",
       "      <td>0.360522</td>\n",
       "      <td>156.056453</td>\n",
       "      <td>-1</td>\n",
       "    </tr>\n",
       "    <tr>\n",
       "      <th>4</th>\n",
       "      <td>2021</td>\n",
       "      <td>4</td>\n",
       "      <td>30977</td>\n",
       "      <td>31703</td>\n",
       "      <td>Chicago, IL</td>\n",
       "      <td>New York City, NY (Metropolitan Area)</td>\n",
       "      <td>773</td>\n",
       "      <td>7842.826087</td>\n",
       "      <td>159.425601</td>\n",
       "      <td>UA</td>\n",
       "      <td>0.355767</td>\n",
       "      <td>163.772739</td>\n",
       "      <td>DL</td>\n",
       "      <td>0.195900</td>\n",
       "      <td>159.819986</td>\n",
       "      <td>-1</td>\n",
       "    </tr>\n",
       "  </tbody>\n",
       "</table>\n",
       "</div>"
      ],
      "text/plain": [
       "   year  quarter  citymarketid_1  citymarketid_2  \\\n",
       "0  2021        4           32467           31703   \n",
       "1  2021        4           32575           32457   \n",
       "2  2021        4           32575           31703   \n",
       "3  2021        4           31703           31454   \n",
       "4  2021        4           30977           31703   \n",
       "\n",
       "                                   city1  \\\n",
       "0          Miami, FL (Metropolitan Area)   \n",
       "1    Los Angeles, CA (Metropolitan Area)   \n",
       "2    Los Angeles, CA (Metropolitan Area)   \n",
       "3  New York City, NY (Metropolitan Area)   \n",
       "4                            Chicago, IL   \n",
       "\n",
       "                                   city2  nsmiles    passengers        fare  \\\n",
       "0  New York City, NY (Metropolitan Area)     1139  16203.369570  168.443679   \n",
       "1  San Francisco, CA (Metropolitan Area)      372  13816.521740  131.529620   \n",
       "2  New York City, NY (Metropolitan Area)     2510  11944.782610  341.074980   \n",
       "3                            Orlando, FL      989   9709.347826  154.128011   \n",
       "4  New York City, NY (Metropolitan Area)      773   7842.826087  159.425601   \n",
       "\n",
       "  carrier_lg  large_ms     fare_lg carrier_low     lf_ms    fare_low  \\\n",
       "0         B6  0.326355  149.470002          B6  0.326355  149.470002   \n",
       "1         WN  0.605262  125.510351          WN  0.605262  125.510351   \n",
       "2         UA  0.277991  320.647700          B6  0.261684  299.356984   \n",
       "3         B6  0.360522  156.056453          B6  0.360522  156.056453   \n",
       "4         UA  0.355767  163.772739          DL  0.195900  159.819986   \n",
       "\n",
       "   table_1_flag  \n",
       "0            -1  \n",
       "1            -1  \n",
       "2            -1  \n",
       "3            -1  \n",
       "4            -1  "
      ]
     },
     "execution_count": 73,
     "metadata": {},
     "output_type": "execute_result"
    }
   ],
   "source": [
    "df_quar4=df.query('quarter > 3')\n",
    "df_quar4.head()        "
   ]
  },
  {
   "cell_type": "code",
   "execution_count": 74,
   "metadata": {
    "collapsed": false,
    "jupyter": {
     "outputs_hidden": false
    }
   },
   "outputs": [
    {
     "data": {
      "text/plain": [
       "(1000, 16)"
      ]
     },
     "execution_count": 74,
     "metadata": {},
     "output_type": "execute_result"
    }
   ],
   "source": [
    "df_quar4.shape\n"
   ]
  },
  {
   "cell_type": "code",
   "execution_count": 75,
   "metadata": {
    "collapsed": false,
    "jupyter": {
     "outputs_hidden": false
    }
   },
   "outputs": [
    {
     "data": {
      "text/html": [
       "<div>\n",
       "<style scoped>\n",
       "    .dataframe tbody tr th:only-of-type {\n",
       "        vertical-align: middle;\n",
       "    }\n",
       "\n",
       "    .dataframe tbody tr th {\n",
       "        vertical-align: top;\n",
       "    }\n",
       "\n",
       "    .dataframe thead th {\n",
       "        text-align: right;\n",
       "    }\n",
       "</style>\n",
       "<table border=\"1\" class=\"dataframe\">\n",
       "  <thead>\n",
       "    <tr style=\"text-align: right;\">\n",
       "      <th></th>\n",
       "      <th>year</th>\n",
       "      <th>quarter</th>\n",
       "      <th>citymarketid_1</th>\n",
       "      <th>citymarketid_2</th>\n",
       "      <th>city1</th>\n",
       "      <th>city2</th>\n",
       "      <th>nsmiles</th>\n",
       "      <th>passengers</th>\n",
       "      <th>fare</th>\n",
       "      <th>carrier_lg</th>\n",
       "      <th>large_ms</th>\n",
       "      <th>fare_lg</th>\n",
       "      <th>carrier_low</th>\n",
       "      <th>lf_ms</th>\n",
       "      <th>fare_low</th>\n",
       "      <th>table_1_flag</th>\n",
       "    </tr>\n",
       "  </thead>\n",
       "  <tbody>\n",
       "    <tr>\n",
       "      <th>995</th>\n",
       "      <td>2021</td>\n",
       "      <td>4</td>\n",
       "      <td>30257</td>\n",
       "      <td>32575</td>\n",
       "      <td>Albany, NY</td>\n",
       "      <td>Los Angeles, CA (Metropolitan Area)</td>\n",
       "      <td>2468</td>\n",
       "      <td>177.500000</td>\n",
       "      <td>352.580220</td>\n",
       "      <td>AA</td>\n",
       "      <td>0.330067</td>\n",
       "      <td>354.057143</td>\n",
       "      <td>WN</td>\n",
       "      <td>0.208818</td>\n",
       "      <td>279.137830</td>\n",
       "      <td>-1</td>\n",
       "    </tr>\n",
       "    <tr>\n",
       "      <th>996</th>\n",
       "      <td>2021</td>\n",
       "      <td>4</td>\n",
       "      <td>32467</td>\n",
       "      <td>33316</td>\n",
       "      <td>Miami, FL (Metropolitan Area)</td>\n",
       "      <td>Omaha, NE</td>\n",
       "      <td>1393</td>\n",
       "      <td>176.956522</td>\n",
       "      <td>245.146745</td>\n",
       "      <td>AA</td>\n",
       "      <td>0.350737</td>\n",
       "      <td>279.508581</td>\n",
       "      <td>WN</td>\n",
       "      <td>0.292998</td>\n",
       "      <td>212.437526</td>\n",
       "      <td>-1</td>\n",
       "    </tr>\n",
       "    <tr>\n",
       "      <th>997</th>\n",
       "      <td>2021</td>\n",
       "      <td>4</td>\n",
       "      <td>31721</td>\n",
       "      <td>34082</td>\n",
       "      <td>Flint, MI</td>\n",
       "      <td>Punta Gorda, FL</td>\n",
       "      <td>1111</td>\n",
       "      <td>176.739130</td>\n",
       "      <td>117.127306</td>\n",
       "      <td>G4</td>\n",
       "      <td>1.000000</td>\n",
       "      <td>117.127306</td>\n",
       "      <td>G4</td>\n",
       "      <td>1.000000</td>\n",
       "      <td>117.127306</td>\n",
       "      <td>-1</td>\n",
       "    </tr>\n",
       "    <tr>\n",
       "      <th>998</th>\n",
       "      <td>2021</td>\n",
       "      <td>4</td>\n",
       "      <td>30423</td>\n",
       "      <td>31453</td>\n",
       "      <td>Austin, TX</td>\n",
       "      <td>Houston, TX</td>\n",
       "      <td>148</td>\n",
       "      <td>176.739130</td>\n",
       "      <td>151.387700</td>\n",
       "      <td>WN</td>\n",
       "      <td>0.518450</td>\n",
       "      <td>142.420759</td>\n",
       "      <td>WN</td>\n",
       "      <td>0.518450</td>\n",
       "      <td>142.420759</td>\n",
       "      <td>-1</td>\n",
       "    </tr>\n",
       "    <tr>\n",
       "      <th>999</th>\n",
       "      <td>2021</td>\n",
       "      <td>4</td>\n",
       "      <td>30977</td>\n",
       "      <td>33728</td>\n",
       "      <td>Chicago, IL</td>\n",
       "      <td>Pensacola, FL</td>\n",
       "      <td>794</td>\n",
       "      <td>176.630435</td>\n",
       "      <td>215.372861</td>\n",
       "      <td>UA</td>\n",
       "      <td>0.362462</td>\n",
       "      <td>229.339049</td>\n",
       "      <td>WN</td>\n",
       "      <td>0.226462</td>\n",
       "      <td>188.792120</td>\n",
       "      <td>-1</td>\n",
       "    </tr>\n",
       "  </tbody>\n",
       "</table>\n",
       "</div>"
      ],
      "text/plain": [
       "     year  quarter  citymarketid_1  citymarketid_2  \\\n",
       "995  2021        4           30257           32575   \n",
       "996  2021        4           32467           33316   \n",
       "997  2021        4           31721           34082   \n",
       "998  2021        4           30423           31453   \n",
       "999  2021        4           30977           33728   \n",
       "\n",
       "                             city1                                city2  \\\n",
       "995                     Albany, NY  Los Angeles, CA (Metropolitan Area)   \n",
       "996  Miami, FL (Metropolitan Area)                            Omaha, NE   \n",
       "997                      Flint, MI                      Punta Gorda, FL   \n",
       "998                     Austin, TX                          Houston, TX   \n",
       "999                    Chicago, IL                        Pensacola, FL   \n",
       "\n",
       "     nsmiles  passengers        fare carrier_lg  large_ms     fare_lg  \\\n",
       "995     2468  177.500000  352.580220         AA  0.330067  354.057143   \n",
       "996     1393  176.956522  245.146745         AA  0.350737  279.508581   \n",
       "997     1111  176.739130  117.127306         G4  1.000000  117.127306   \n",
       "998      148  176.739130  151.387700         WN  0.518450  142.420759   \n",
       "999      794  176.630435  215.372861         UA  0.362462  229.339049   \n",
       "\n",
       "    carrier_low     lf_ms    fare_low  table_1_flag  \n",
       "995          WN  0.208818  279.137830            -1  \n",
       "996          WN  0.292998  212.437526            -1  \n",
       "997          G4  1.000000  117.127306            -1  \n",
       "998          WN  0.518450  142.420759            -1  \n",
       "999          WN  0.226462  188.792120            -1  "
      ]
     },
     "execution_count": 75,
     "metadata": {},
     "output_type": "execute_result"
    }
   ],
   "source": [
    "df_quar4.tail()"
   ]
  },
  {
   "cell_type": "markdown",
   "metadata": {},
   "source": [
    "### All data from quarter 4\n"
   ]
  },
  {
   "cell_type": "code",
   "execution_count": 76,
   "metadata": {
    "collapsed": false,
    "jupyter": {
     "outputs_hidden": false
    }
   },
   "outputs": [],
   "source": [
    "df_quar4.set_index(\"year\", inplace=True)"
   ]
  },
  {
   "cell_type": "code",
   "execution_count": 77,
   "metadata": {
    "collapsed": false,
    "jupyter": {
     "outputs_hidden": false
    }
   },
   "outputs": [
    {
     "data": {
      "text/html": [
       "<div>\n",
       "<style scoped>\n",
       "    .dataframe tbody tr th:only-of-type {\n",
       "        vertical-align: middle;\n",
       "    }\n",
       "\n",
       "    .dataframe tbody tr th {\n",
       "        vertical-align: top;\n",
       "    }\n",
       "\n",
       "    .dataframe thead th {\n",
       "        text-align: right;\n",
       "    }\n",
       "</style>\n",
       "<table border=\"1\" class=\"dataframe\">\n",
       "  <thead>\n",
       "    <tr style=\"text-align: right;\">\n",
       "      <th></th>\n",
       "      <th>quarter</th>\n",
       "      <th>citymarketid_1</th>\n",
       "      <th>citymarketid_2</th>\n",
       "      <th>city1</th>\n",
       "      <th>city2</th>\n",
       "      <th>nsmiles</th>\n",
       "      <th>passengers</th>\n",
       "      <th>fare</th>\n",
       "      <th>carrier_lg</th>\n",
       "      <th>large_ms</th>\n",
       "      <th>fare_lg</th>\n",
       "      <th>carrier_low</th>\n",
       "      <th>lf_ms</th>\n",
       "      <th>fare_low</th>\n",
       "    </tr>\n",
       "    <tr>\n",
       "      <th>year</th>\n",
       "      <th></th>\n",
       "      <th></th>\n",
       "      <th></th>\n",
       "      <th></th>\n",
       "      <th></th>\n",
       "      <th></th>\n",
       "      <th></th>\n",
       "      <th></th>\n",
       "      <th></th>\n",
       "      <th></th>\n",
       "      <th></th>\n",
       "      <th></th>\n",
       "      <th></th>\n",
       "      <th></th>\n",
       "    </tr>\n",
       "  </thead>\n",
       "  <tbody>\n",
       "    <tr>\n",
       "      <th>2021</th>\n",
       "      <td>4</td>\n",
       "      <td>32467</td>\n",
       "      <td>31703</td>\n",
       "      <td>Miami, FL (Metropolitan Area)</td>\n",
       "      <td>New York City, NY (Metropolitan Area)</td>\n",
       "      <td>1139</td>\n",
       "      <td>16203.369570</td>\n",
       "      <td>168.443679</td>\n",
       "      <td>B6</td>\n",
       "      <td>0.326355</td>\n",
       "      <td>149.470002</td>\n",
       "      <td>B6</td>\n",
       "      <td>0.326355</td>\n",
       "      <td>149.470002</td>\n",
       "    </tr>\n",
       "    <tr>\n",
       "      <th>2021</th>\n",
       "      <td>4</td>\n",
       "      <td>32575</td>\n",
       "      <td>32457</td>\n",
       "      <td>Los Angeles, CA (Metropolitan Area)</td>\n",
       "      <td>San Francisco, CA (Metropolitan Area)</td>\n",
       "      <td>372</td>\n",
       "      <td>13816.521740</td>\n",
       "      <td>131.529620</td>\n",
       "      <td>WN</td>\n",
       "      <td>0.605262</td>\n",
       "      <td>125.510351</td>\n",
       "      <td>WN</td>\n",
       "      <td>0.605262</td>\n",
       "      <td>125.510351</td>\n",
       "    </tr>\n",
       "    <tr>\n",
       "      <th>2021</th>\n",
       "      <td>4</td>\n",
       "      <td>32575</td>\n",
       "      <td>31703</td>\n",
       "      <td>Los Angeles, CA (Metropolitan Area)</td>\n",
       "      <td>New York City, NY (Metropolitan Area)</td>\n",
       "      <td>2510</td>\n",
       "      <td>11944.782610</td>\n",
       "      <td>341.074980</td>\n",
       "      <td>UA</td>\n",
       "      <td>0.277991</td>\n",
       "      <td>320.647700</td>\n",
       "      <td>B6</td>\n",
       "      <td>0.261684</td>\n",
       "      <td>299.356984</td>\n",
       "    </tr>\n",
       "    <tr>\n",
       "      <th>2021</th>\n",
       "      <td>4</td>\n",
       "      <td>31703</td>\n",
       "      <td>31454</td>\n",
       "      <td>New York City, NY (Metropolitan Area)</td>\n",
       "      <td>Orlando, FL</td>\n",
       "      <td>989</td>\n",
       "      <td>9709.347826</td>\n",
       "      <td>154.128011</td>\n",
       "      <td>B6</td>\n",
       "      <td>0.360522</td>\n",
       "      <td>156.056453</td>\n",
       "      <td>B6</td>\n",
       "      <td>0.360522</td>\n",
       "      <td>156.056453</td>\n",
       "    </tr>\n",
       "    <tr>\n",
       "      <th>2021</th>\n",
       "      <td>4</td>\n",
       "      <td>30977</td>\n",
       "      <td>31703</td>\n",
       "      <td>Chicago, IL</td>\n",
       "      <td>New York City, NY (Metropolitan Area)</td>\n",
       "      <td>773</td>\n",
       "      <td>7842.826087</td>\n",
       "      <td>159.425601</td>\n",
       "      <td>UA</td>\n",
       "      <td>0.355767</td>\n",
       "      <td>163.772739</td>\n",
       "      <td>DL</td>\n",
       "      <td>0.195900</td>\n",
       "      <td>159.819986</td>\n",
       "    </tr>\n",
       "  </tbody>\n",
       "</table>\n",
       "</div>"
      ],
      "text/plain": [
       "      quarter  citymarketid_1  citymarketid_2  \\\n",
       "year                                            \n",
       "2021        4           32467           31703   \n",
       "2021        4           32575           32457   \n",
       "2021        4           32575           31703   \n",
       "2021        4           31703           31454   \n",
       "2021        4           30977           31703   \n",
       "\n",
       "                                      city1  \\\n",
       "year                                          \n",
       "2021          Miami, FL (Metropolitan Area)   \n",
       "2021    Los Angeles, CA (Metropolitan Area)   \n",
       "2021    Los Angeles, CA (Metropolitan Area)   \n",
       "2021  New York City, NY (Metropolitan Area)   \n",
       "2021                            Chicago, IL   \n",
       "\n",
       "                                      city2  nsmiles    passengers  \\\n",
       "year                                                                 \n",
       "2021  New York City, NY (Metropolitan Area)     1139  16203.369570   \n",
       "2021  San Francisco, CA (Metropolitan Area)      372  13816.521740   \n",
       "2021  New York City, NY (Metropolitan Area)     2510  11944.782610   \n",
       "2021                            Orlando, FL      989   9709.347826   \n",
       "2021  New York City, NY (Metropolitan Area)      773   7842.826087   \n",
       "\n",
       "            fare carrier_lg  large_ms     fare_lg carrier_low     lf_ms  \\\n",
       "year                                                                      \n",
       "2021  168.443679         B6  0.326355  149.470002          B6  0.326355   \n",
       "2021  131.529620         WN  0.605262  125.510351          WN  0.605262   \n",
       "2021  341.074980         UA  0.277991  320.647700          B6  0.261684   \n",
       "2021  154.128011         B6  0.360522  156.056453          B6  0.360522   \n",
       "2021  159.425601         UA  0.355767  163.772739          DL  0.195900   \n",
       "\n",
       "        fare_low  \n",
       "year              \n",
       "2021  149.470002  \n",
       "2021  125.510351  \n",
       "2021  299.356984  \n",
       "2021  156.056453  \n",
       "2021  159.819986  "
      ]
     },
     "execution_count": 77,
     "metadata": {},
     "output_type": "execute_result"
    }
   ],
   "source": [
    "df_quar4.drop([\"table_1_flag\"], axis=1, inplace=True)\n",
    "df_quar4.head()"
   ]
  },
  {
   "cell_type": "code",
   "execution_count": 78,
   "metadata": {
    "collapsed": false,
    "jupyter": {
     "outputs_hidden": false
    }
   },
   "outputs": [
    {
     "data": {
      "text/html": [
       "<div>\n",
       "<style scoped>\n",
       "    .dataframe tbody tr th:only-of-type {\n",
       "        vertical-align: middle;\n",
       "    }\n",
       "\n",
       "    .dataframe tbody tr th {\n",
       "        vertical-align: top;\n",
       "    }\n",
       "\n",
       "    .dataframe thead th {\n",
       "        text-align: right;\n",
       "    }\n",
       "</style>\n",
       "<table border=\"1\" class=\"dataframe\">\n",
       "  <thead>\n",
       "    <tr style=\"text-align: right;\">\n",
       "      <th></th>\n",
       "      <th>quarter</th>\n",
       "      <th>citymarketid_1</th>\n",
       "      <th>citymarketid_2</th>\n",
       "      <th>nsmiles</th>\n",
       "      <th>passengers</th>\n",
       "      <th>fare</th>\n",
       "      <th>large_ms</th>\n",
       "      <th>fare_lg</th>\n",
       "      <th>lf_ms</th>\n",
       "      <th>fare_low</th>\n",
       "    </tr>\n",
       "  </thead>\n",
       "  <tbody>\n",
       "    <tr>\n",
       "      <th>count</th>\n",
       "      <td>1000.0</td>\n",
       "      <td>1000.000000</td>\n",
       "      <td>1000.000000</td>\n",
       "      <td>1000.000000</td>\n",
       "      <td>1000.000000</td>\n",
       "      <td>1000.000000</td>\n",
       "      <td>1000.000000</td>\n",
       "      <td>1000.000000</td>\n",
       "      <td>1000.000000</td>\n",
       "      <td>1000.000000</td>\n",
       "    </tr>\n",
       "    <tr>\n",
       "      <th>mean</th>\n",
       "      <td>4.0</td>\n",
       "      <td>31502.442000</td>\n",
       "      <td>32291.232000</td>\n",
       "      <td>1062.012000</td>\n",
       "      <td>885.227500</td>\n",
       "      <td>204.301241</td>\n",
       "      <td>0.569327</td>\n",
       "      <td>208.069576</td>\n",
       "      <td>0.302711</td>\n",
       "      <td>166.985317</td>\n",
       "    </tr>\n",
       "    <tr>\n",
       "      <th>std</th>\n",
       "      <td>0.0</td>\n",
       "      <td>1218.148708</td>\n",
       "      <td>1421.454688</td>\n",
       "      <td>595.573824</td>\n",
       "      <td>1262.797853</td>\n",
       "      <td>50.526601</td>\n",
       "      <td>0.174704</td>\n",
       "      <td>56.309613</td>\n",
       "      <td>0.211642</td>\n",
       "      <td>53.751909</td>\n",
       "    </tr>\n",
       "    <tr>\n",
       "      <th>min</th>\n",
       "      <td>4.0</td>\n",
       "      <td>30135.000000</td>\n",
       "      <td>30189.000000</td>\n",
       "      <td>129.000000</td>\n",
       "      <td>176.630435</td>\n",
       "      <td>84.636979</td>\n",
       "      <td>0.220136</td>\n",
       "      <td>84.636979</td>\n",
       "      <td>0.010013</td>\n",
       "      <td>69.962963</td>\n",
       "    </tr>\n",
       "    <tr>\n",
       "      <th>25%</th>\n",
       "      <td>4.0</td>\n",
       "      <td>30466.000000</td>\n",
       "      <td>30852.000000</td>\n",
       "      <td>602.000000</td>\n",
       "      <td>276.576087</td>\n",
       "      <td>165.700202</td>\n",
       "      <td>0.429780</td>\n",
       "      <td>166.892717</td>\n",
       "      <td>0.144207</td>\n",
       "      <td>125.424904</td>\n",
       "    </tr>\n",
       "    <tr>\n",
       "      <th>50%</th>\n",
       "      <td>4.0</td>\n",
       "      <td>31057.000000</td>\n",
       "      <td>32211.000000</td>\n",
       "      <td>930.000000</td>\n",
       "      <td>469.945652</td>\n",
       "      <td>196.060543</td>\n",
       "      <td>0.542536</td>\n",
       "      <td>200.916982</td>\n",
       "      <td>0.251940</td>\n",
       "      <td>159.162477</td>\n",
       "    </tr>\n",
       "    <tr>\n",
       "      <th>75%</th>\n",
       "      <td>4.0</td>\n",
       "      <td>32242.500000</td>\n",
       "      <td>33342.000000</td>\n",
       "      <td>1418.500000</td>\n",
       "      <td>964.103261</td>\n",
       "      <td>234.936081</td>\n",
       "      <td>0.701151</td>\n",
       "      <td>242.636454</td>\n",
       "      <td>0.400131</td>\n",
       "      <td>202.000734</td>\n",
       "    </tr>\n",
       "    <tr>\n",
       "      <th>max</th>\n",
       "      <td>4.0</td>\n",
       "      <td>35412.000000</td>\n",
       "      <td>35412.000000</td>\n",
       "      <td>2724.000000</td>\n",
       "      <td>16203.369570</td>\n",
       "      <td>357.569849</td>\n",
       "      <td>1.000000</td>\n",
       "      <td>419.447844</td>\n",
       "      <td>1.000000</td>\n",
       "      <td>335.310795</td>\n",
       "    </tr>\n",
       "  </tbody>\n",
       "</table>\n",
       "</div>"
      ],
      "text/plain": [
       "       quarter  citymarketid_1  citymarketid_2      nsmiles    passengers  \\\n",
       "count   1000.0     1000.000000     1000.000000  1000.000000   1000.000000   \n",
       "mean       4.0    31502.442000    32291.232000  1062.012000    885.227500   \n",
       "std        0.0     1218.148708     1421.454688   595.573824   1262.797853   \n",
       "min        4.0    30135.000000    30189.000000   129.000000    176.630435   \n",
       "25%        4.0    30466.000000    30852.000000   602.000000    276.576087   \n",
       "50%        4.0    31057.000000    32211.000000   930.000000    469.945652   \n",
       "75%        4.0    32242.500000    33342.000000  1418.500000    964.103261   \n",
       "max        4.0    35412.000000    35412.000000  2724.000000  16203.369570   \n",
       "\n",
       "              fare     large_ms      fare_lg        lf_ms     fare_low  \n",
       "count  1000.000000  1000.000000  1000.000000  1000.000000  1000.000000  \n",
       "mean    204.301241     0.569327   208.069576     0.302711   166.985317  \n",
       "std      50.526601     0.174704    56.309613     0.211642    53.751909  \n",
       "min      84.636979     0.220136    84.636979     0.010013    69.962963  \n",
       "25%     165.700202     0.429780   166.892717     0.144207   125.424904  \n",
       "50%     196.060543     0.542536   200.916982     0.251940   159.162477  \n",
       "75%     234.936081     0.701151   242.636454     0.400131   202.000734  \n",
       "max     357.569849     1.000000   419.447844     1.000000   335.310795  "
      ]
     },
     "execution_count": 78,
     "metadata": {},
     "output_type": "execute_result"
    }
   ],
   "source": [
    "df_quar4.describe()"
   ]
  },
  {
   "cell_type": "markdown",
   "metadata": {},
   "source": [
    "### Part 1 : Analytic Approach\n",
    "\n"
   ]
  },
  {
   "cell_type": "code",
   "execution_count": 79,
   "metadata": {
    "collapsed": false,
    "jupyter": {
     "outputs_hidden": false
    }
   },
   "outputs": [
    {
     "data": {
      "text/plain": [
       "lf_ms            -0.273058\n",
       "large_ms         -0.109974\n",
       "passengers       -0.103912\n",
       "citymarketid_2    0.038144\n",
       "citymarketid_1    0.053965\n",
       "fare_low          0.726975\n",
       "nsmiles           0.799990\n",
       "fare_lg           0.927883\n",
       "fare              1.000000\n",
       "quarter                NaN\n",
       "Name: fare, dtype: float64"
      ]
     },
     "execution_count": 79,
     "metadata": {},
     "output_type": "execute_result"
    }
   ],
   "source": [
    "df_quar4.corr()['fare'].sort_values()"
   ]
  },
  {
   "cell_type": "code",
   "execution_count": 80,
   "metadata": {
    "collapsed": false,
    "jupyter": {
     "outputs_hidden": false
    }
   },
   "outputs": [
    {
     "data": {
      "text/plain": [
       "<AxesSubplot:xlabel='nsmiles', ylabel='fare'>"
      ]
     },
     "execution_count": 80,
     "metadata": {},
     "output_type": "execute_result"
    },
    {
     "data": {
      "image/png": "[encoded data removed]",
      "text/plain": [
       "<Figure size 432x288 with 1 Axes>"
      ]
     },
     "metadata": {
      "needs_background": "light"
     },
     "output_type": "display_data"
    }
   ],
   "source": [
    "sns.regplot(x='nsmiles', y='fare', data=df_quar4)"
   ]
  },
  {
   "cell_type": "code",
   "execution_count": 45,
   "metadata": {
    "collapsed": false,
    "jupyter": {
     "outputs_hidden": false
    }
   },
   "outputs": [
    {
     "data": {
      "text/plain": [
       "<AxesSubplot:xlabel='passengers', ylabel='fare'>"
      ]
     },
     "execution_count": 45,
     "metadata": {},
     "output_type": "execute_result"
    },
    {
     "data": {
      "image/png": "[encoded data removed]",
      "text/plain": [
       "<Figure size 432x288 with 1 Axes>"
      ]
     },
     "metadata": {
      "needs_background": "light"
     },
     "output_type": "display_data"
    }
   ],
   "source": [
    "sns.regplot(x='passengers', y='fare', data=df)"
   ]
  },
  {
   "cell_type": "markdown",
   "metadata": {},
   "source": [
    "We can use the Pandas method <code>corr()</code>  to find the feature other than price that is most correlated with price.\n"
   ]
  },
  {
   "cell_type": "code",
   "execution_count": 46,
   "metadata": {
    "collapsed": false,
    "jupyter": {
     "outputs_hidden": false
    }
   },
   "outputs": [
    {
     "data": {
      "text/plain": [
       "lf_ms            -0.276702\n",
       "large_ms         -0.113474\n",
       "passengers       -0.102688\n",
       "citymarketid_2    0.035719\n",
       "citymarketid_1    0.053540\n",
       "fare_low          0.727152\n",
       "nsmiles           0.799247\n",
       "fare_lg           0.928078\n",
       "fare              1.000000\n",
       "quarter                NaN\n",
       "Name: fare, dtype: float64"
      ]
     },
     "execution_count": 46,
     "metadata": {},
     "output_type": "execute_result"
    }
   ],
   "source": [
    "df.corr()['fare'].sort_values()"
   ]
  },
  {
   "cell_type": "markdown",
   "metadata": {},
   "source": [
    "### Part 5: Model Development\n"
   ]
  },
  {
   "cell_type": "markdown",
   "metadata": {},
   "source": [
    "We can Fit a linear regression model using the  Nonstop  Domestic Route feature <code>'nsmiles'</code> and  caculate the R^2.\n"
   ]
  },
  {
   "cell_type": "code",
   "execution_count": 87,
   "metadata": {
    "collapsed": false,
    "jupyter": {
     "outputs_hidden": false
    }
   },
   "outputs": [
    {
     "data": {
      "text/plain": [
       "0.6399832689937093"
      ]
     },
     "execution_count": 87,
     "metadata": {},
     "output_type": "execute_result"
    }
   ],
   "source": [
    "X = df_quar4[['nsmiles']]\n",
    "Y = df_quar4['fare']\n",
    "lm = LinearRegression()\n",
    "lm.fit(X,Y)\n",
    "lm.score(X, Y)"
   ]
  },
  {
   "cell_type": "markdown",
   "metadata": {},
   "source": [
    "### \n",
    "\n",
    "Fit a linear regression model to predict the <code>'fare'</code> using the feature <code>'fare_lg'</code> then calculate the R^2. Take a screenshot of your code and the value of the R^2.\n"
   ]
  },
  {
   "cell_type": "code",
   "execution_count": 88,
   "metadata": {
    "collapsed": false,
    "jupyter": {
     "outputs_hidden": false
    }
   },
   "outputs": [
    {
     "data": {
      "text/plain": [
       "0.8609663352963519"
      ]
     },
     "execution_count": 88,
     "metadata": {},
     "output_type": "execute_result"
    }
   ],
   "source": [
    "x = df[['fare_lg']]\n",
    "y = df['fare']\n",
    "lm = LinearRegression()\n",
    "lm.fit(x,y)\n",
    "lm.score(x,y)"
   ]
  },
  {
   "cell_type": "markdown",
   "metadata": {},
   "source": [
    "### \n",
    "\n",
    "Fit a linear regression model to predict the <code>'fare'</code> using the list of features:"
   ]
  },
  {
   "cell_type": "code",
   "execution_count": 89,
   "metadata": {},
   "outputs": [],
   "source": [
    "features =df_quar4[[\"fare_low\", \"nsmiles\",\"fare_lg\"]]     "
   ]
  },
  {
   "cell_type": "markdown",
   "metadata": {},
   "source": [
    "Then calculate the R^2. Take a screenshot of your code.\n"
   ]
  },
  {
   "cell_type": "code",
   "execution_count": 90,
   "metadata": {
    "collapsed": false,
    "jupyter": {
     "outputs_hidden": false
    }
   },
   "outputs": [
    {
     "data": {
      "text/plain": [
       "0.9168336999781774"
      ]
     },
     "execution_count": 90,
     "metadata": {},
     "output_type": "execute_result"
    }
   ],
   "source": [
    "x = features\n",
    "y = df_quar4['fare']\n",
    "reg = LinearRegression().fit(x, y)\n",
    "reg.score(x, y)"
   ]
  },
  {
   "cell_type": "markdown",
   "metadata": {},
   "source": [
    "### \n",
    "\n",
    "Create a list of tuples, the first element in the tuple contains the name of the estimator:\n",
    "\n",
    "<code>'scale'</code>\n",
    "\n",
    "<code>'polynomial'</code>\n",
    "\n",
    "<code>'model'</code>\n",
    "\n",
    "The second element in the tuple  contains the model constructor\n",
    "\n",
    "<code>StandardScaler()</code>\n",
    "\n",
    "<code>PolynomialFeatures(include_bias=False)</code>\n",
    "\n",
    "<code>LinearRegression()</code>\n"
   ]
  },
  {
   "cell_type": "code",
   "execution_count": 93,
   "metadata": {},
   "outputs": [],
   "source": [
    "Input=[('scale',StandardScaler()),('polynomial', PolynomialFeatures(include_bias=False)),('model',LinearRegression())]"
   ]
  },
  {
   "cell_type": "markdown",
   "metadata": {},
   "source": [
    "### \n",
    "\n",
    "Use the list to create a pipeline object to predict the 'fare', fit the object using the features in the list <code>features</code>, and calculate the R^2.\n"
   ]
  },
  {
   "cell_type": "code",
   "execution_count": 94,
   "metadata": {
    "collapsed": false,
    "jupyter": {
     "outputs_hidden": false
    }
   },
   "outputs": [
    {
     "data": {
      "text/html": [
       "<style>#sk-container-id-1 {color: black;background-color: white;}#sk-container-id-1 pre{padding: 0;}#sk-container-id-1 div.sk-toggleable {background-color: white;}#sk-container-id-1 label.sk-toggleable__label {cursor: pointer;display: block;width: 100%;margin-bottom: 0;padding: 0.3em;box-sizing: border-box;text-align: center;}#sk-container-id-1 label.sk-toggleable__label-arrow:before {content: \"▸\";float: left;margin-right: 0.25em;color: #696969;}#sk-container-id-1 label.sk-toggleable__label-arrow:hover:before {color: black;}#sk-container-id-1 div.sk-estimator:hover label.sk-toggleable__label-arrow:before {color: black;}#sk-container-id-1 div.sk-toggleable__content {max-height: 0;max-width: 0;overflow: hidden;text-align: left;background-color: #f0f8ff;}#sk-container-id-1 div.sk-toggleable__content pre {margin: 0.2em;color: black;border-radius: 0.25em;background-color: #f0f8ff;}#sk-container-id-1 input.sk-toggleable__control:checked~div.sk-toggleable__content {max-height: 200px;max-width: 100%;overflow: auto;}#sk-container-id-1 input.sk-toggleable__control:checked~label.sk-toggleable__label-arrow:before {content: \"▾\";}#sk-container-id-1 div.sk-estimator input.sk-toggleable__control:checked~label.sk-toggleable__label {background-color: #d4ebff;}#sk-container-id-1 div.sk-label input.sk-toggleable__control:checked~label.sk-toggleable__label {background-color: #d4ebff;}#sk-container-id-1 input.sk-hidden--visually {border: 0;clip: rect(1px 1px 1px 1px);clip: rect(1px, 1px, 1px, 1px);height: 1px;margin: -1px;overflow: hidden;padding: 0;position: absolute;width: 1px;}#sk-container-id-1 div.sk-estimator {font-family: monospace;background-color: #f0f8ff;border: 1px dotted black;border-radius: 0.25em;box-sizing: border-box;margin-bottom: 0.5em;}#sk-container-id-1 div.sk-estimator:hover {background-color: #d4ebff;}#sk-container-id-1 div.sk-parallel-item::after {content: \"\";width: 100%;border-bottom: 1px solid gray;flex-grow: 1;}#sk-container-id-1 div.sk-label:hover label.sk-toggleable__label {background-color: #d4ebff;}#sk-container-id-1 div.sk-serial::before {content: \"\";position: absolute;border-left: 1px solid gray;box-sizing: border-box;top: 0;bottom: 0;left: 50%;z-index: 0;}#sk-container-id-1 div.sk-serial {display: flex;flex-direction: column;align-items: center;background-color: white;padding-right: 0.2em;padding-left: 0.2em;position: relative;}#sk-container-id-1 div.sk-item {position: relative;z-index: 1;}#sk-container-id-1 div.sk-parallel {display: flex;align-items: stretch;justify-content: center;background-color: white;position: relative;}#sk-container-id-1 div.sk-item::before, #sk-container-id-1 div.sk-parallel-item::before {content: \"\";position: absolute;border-left: 1px solid gray;box-sizing: border-box;top: 0;bottom: 0;left: 50%;z-index: -1;}#sk-container-id-1 div.sk-parallel-item {display: flex;flex-direction: column;z-index: 1;position: relative;background-color: white;}#sk-container-id-1 div.sk-parallel-item:first-child::after {align-self: flex-end;width: 50%;}#sk-container-id-1 div.sk-parallel-item:last-child::after {align-self: flex-start;width: 50%;}#sk-container-id-1 div.sk-parallel-item:only-child::after {width: 0;}#sk-container-id-1 div.sk-dashed-wrapped {border: 1px dashed gray;margin: 0 0.4em 0.5em 0.4em;box-sizing: border-box;padding-bottom: 0.4em;background-color: white;}#sk-container-id-1 div.sk-label label {font-family: monospace;font-weight: bold;display: inline-block;line-height: 1.2em;}#sk-container-id-1 div.sk-label-container {text-align: center;}#sk-container-id-1 div.sk-container {/* jupyter's `normalize.less` sets `[hidden] { display: none; }` but bootstrap.min.css set `[hidden] { display: none !important; }` so we also need the `!important` here to be able to override the default hidden behavior on the sphinx rendered scikit-learn.org. See: https://github.com/scikit-learn/scikit-learn/issues/21755 */display: inline-block !important;position: relative;}#sk-container-id-1 div.sk-text-repr-fallback {display: none;}</style><div id=\"sk-container-id-1\" class=\"sk-top-container\"><div class=\"sk-text-repr-fallback\"><pre>Pipeline(steps=[(&#x27;scale&#x27;, StandardScaler()),\n",
       "                (&#x27;polynomial&#x27;, PolynomialFeatures(include_bias=False)),\n",
       "                (&#x27;model&#x27;, LinearRegression())])</pre><b>In a Jupyter environment, please rerun this cell to show the HTML representation or trust the notebook. <br />On GitHub, the HTML representation is unable to render, please try loading this page with nbviewer.org.</b></div><div class=\"sk-container\" hidden><div class=\"sk-item sk-dashed-wrapped\"><div class=\"sk-label-container\"><div class=\"sk-label sk-toggleable\"><input class=\"sk-toggleable__control sk-hidden--visually\" id=\"sk-estimator-id-1\" type=\"checkbox\" ><label for=\"sk-estimator-id-1\" class=\"sk-toggleable__label sk-toggleable__label-arrow\">Pipeline</label><div class=\"sk-toggleable__content\"><pre>Pipeline(steps=[(&#x27;scale&#x27;, StandardScaler()),\n",
       "                (&#x27;polynomial&#x27;, PolynomialFeatures(include_bias=False)),\n",
       "                (&#x27;model&#x27;, LinearRegression())])</pre></div></div></div><div class=\"sk-serial\"><div class=\"sk-item\"><div class=\"sk-estimator sk-toggleable\"><input class=\"sk-toggleable__control sk-hidden--visually\" id=\"sk-estimator-id-2\" type=\"checkbox\" ><label for=\"sk-estimator-id-2\" class=\"sk-toggleable__label sk-toggleable__label-arrow\">StandardScaler</label><div class=\"sk-toggleable__content\"><pre>StandardScaler()</pre></div></div></div><div class=\"sk-item\"><div class=\"sk-estimator sk-toggleable\"><input class=\"sk-toggleable__control sk-hidden--visually\" id=\"sk-estimator-id-3\" type=\"checkbox\" ><label for=\"sk-estimator-id-3\" class=\"sk-toggleable__label sk-toggleable__label-arrow\">PolynomialFeatures</label><div class=\"sk-toggleable__content\"><pre>PolynomialFeatures(include_bias=False)</pre></div></div></div><div class=\"sk-item\"><div class=\"sk-estimator sk-toggleable\"><input class=\"sk-toggleable__control sk-hidden--visually\" id=\"sk-estimator-id-4\" type=\"checkbox\" ><label for=\"sk-estimator-id-4\" class=\"sk-toggleable__label sk-toggleable__label-arrow\">LinearRegression</label><div class=\"sk-toggleable__content\"><pre>LinearRegression()</pre></div></div></div></div></div></div></div>"
      ],
      "text/plain": [
       "Pipeline(steps=[('scale', StandardScaler()),\n",
       "                ('polynomial', PolynomialFeatures(include_bias=False)),\n",
       "                ('model', LinearRegression())])"
      ]
     },
     "execution_count": 94,
     "metadata": {},
     "output_type": "execute_result"
    }
   ],
   "source": [
    "pipe=Pipeline(Input)\n",
    "pipe"
   ]
  },
  {
   "cell_type": "code",
   "execution_count": 95,
   "metadata": {
    "collapsed": false,
    "jupyter": {
     "outputs_hidden": false
    }
   },
   "outputs": [
    {
     "data": {
      "text/html": [
       "<style>#sk-container-id-2 {color: black;background-color: white;}#sk-container-id-2 pre{padding: 0;}#sk-container-id-2 div.sk-toggleable {background-color: white;}#sk-container-id-2 label.sk-toggleable__label {cursor: pointer;display: block;width: 100%;margin-bottom: 0;padding: 0.3em;box-sizing: border-box;text-align: center;}#sk-container-id-2 label.sk-toggleable__label-arrow:before {content: \"▸\";float: left;margin-right: 0.25em;color: #696969;}#sk-container-id-2 label.sk-toggleable__label-arrow:hover:before {color: black;}#sk-container-id-2 div.sk-estimator:hover label.sk-toggleable__label-arrow:before {color: black;}#sk-container-id-2 div.sk-toggleable__content {max-height: 0;max-width: 0;overflow: hidden;text-align: left;background-color: #f0f8ff;}#sk-container-id-2 div.sk-toggleable__content pre {margin: 0.2em;color: black;border-radius: 0.25em;background-color: #f0f8ff;}#sk-container-id-2 input.sk-toggleable__control:checked~div.sk-toggleable__content {max-height: 200px;max-width: 100%;overflow: auto;}#sk-container-id-2 input.sk-toggleable__control:checked~label.sk-toggleable__label-arrow:before {content: \"▾\";}#sk-container-id-2 div.sk-estimator input.sk-toggleable__control:checked~label.sk-toggleable__label {background-color: #d4ebff;}#sk-container-id-2 div.sk-label input.sk-toggleable__control:checked~label.sk-toggleable__label {background-color: #d4ebff;}#sk-container-id-2 input.sk-hidden--visually {border: 0;clip: rect(1px 1px 1px 1px);clip: rect(1px, 1px, 1px, 1px);height: 1px;margin: -1px;overflow: hidden;padding: 0;position: absolute;width: 1px;}#sk-container-id-2 div.sk-estimator {font-family: monospace;background-color: #f0f8ff;border: 1px dotted black;border-radius: 0.25em;box-sizing: border-box;margin-bottom: 0.5em;}#sk-container-id-2 div.sk-estimator:hover {background-color: #d4ebff;}#sk-container-id-2 div.sk-parallel-item::after {content: \"\";width: 100%;border-bottom: 1px solid gray;flex-grow: 1;}#sk-container-id-2 div.sk-label:hover label.sk-toggleable__label {background-color: #d4ebff;}#sk-container-id-2 div.sk-serial::before {content: \"\";position: absolute;border-left: 1px solid gray;box-sizing: border-box;top: 0;bottom: 0;left: 50%;z-index: 0;}#sk-container-id-2 div.sk-serial {display: flex;flex-direction: column;align-items: center;background-color: white;padding-right: 0.2em;padding-left: 0.2em;position: relative;}#sk-container-id-2 div.sk-item {position: relative;z-index: 1;}#sk-container-id-2 div.sk-parallel {display: flex;align-items: stretch;justify-content: center;background-color: white;position: relative;}#sk-container-id-2 div.sk-item::before, #sk-container-id-2 div.sk-parallel-item::before {content: \"\";position: absolute;border-left: 1px solid gray;box-sizing: border-box;top: 0;bottom: 0;left: 50%;z-index: -1;}#sk-container-id-2 div.sk-parallel-item {display: flex;flex-direction: column;z-index: 1;position: relative;background-color: white;}#sk-container-id-2 div.sk-parallel-item:first-child::after {align-self: flex-end;width: 50%;}#sk-container-id-2 div.sk-parallel-item:last-child::after {align-self: flex-start;width: 50%;}#sk-container-id-2 div.sk-parallel-item:only-child::after {width: 0;}#sk-container-id-2 div.sk-dashed-wrapped {border: 1px dashed gray;margin: 0 0.4em 0.5em 0.4em;box-sizing: border-box;padding-bottom: 0.4em;background-color: white;}#sk-container-id-2 div.sk-label label {font-family: monospace;font-weight: bold;display: inline-block;line-height: 1.2em;}#sk-container-id-2 div.sk-label-container {text-align: center;}#sk-container-id-2 div.sk-container {/* jupyter's `normalize.less` sets `[hidden] { display: none; }` but bootstrap.min.css set `[hidden] { display: none !important; }` so we also need the `!important` here to be able to override the default hidden behavior on the sphinx rendered scikit-learn.org. See: https://github.com/scikit-learn/scikit-learn/issues/21755 */display: inline-block !important;position: relative;}#sk-container-id-2 div.sk-text-repr-fallback {display: none;}</style><div id=\"sk-container-id-2\" class=\"sk-top-container\"><div class=\"sk-text-repr-fallback\"><pre>Pipeline(steps=[(&#x27;scale&#x27;, StandardScaler()),\n",
       "                (&#x27;polynomial&#x27;, PolynomialFeatures(include_bias=False)),\n",
       "                (&#x27;model&#x27;, LinearRegression())])</pre><b>In a Jupyter environment, please rerun this cell to show the HTML representation or trust the notebook. <br />On GitHub, the HTML representation is unable to render, please try loading this page with nbviewer.org.</b></div><div class=\"sk-container\" hidden><div class=\"sk-item sk-dashed-wrapped\"><div class=\"sk-label-container\"><div class=\"sk-label sk-toggleable\"><input class=\"sk-toggleable__control sk-hidden--visually\" id=\"sk-estimator-id-5\" type=\"checkbox\" ><label for=\"sk-estimator-id-5\" class=\"sk-toggleable__label sk-toggleable__label-arrow\">Pipeline</label><div class=\"sk-toggleable__content\"><pre>Pipeline(steps=[(&#x27;scale&#x27;, StandardScaler()),\n",
       "                (&#x27;polynomial&#x27;, PolynomialFeatures(include_bias=False)),\n",
       "                (&#x27;model&#x27;, LinearRegression())])</pre></div></div></div><div class=\"sk-serial\"><div class=\"sk-item\"><div class=\"sk-estimator sk-toggleable\"><input class=\"sk-toggleable__control sk-hidden--visually\" id=\"sk-estimator-id-6\" type=\"checkbox\" ><label for=\"sk-estimator-id-6\" class=\"sk-toggleable__label sk-toggleable__label-arrow\">StandardScaler</label><div class=\"sk-toggleable__content\"><pre>StandardScaler()</pre></div></div></div><div class=\"sk-item\"><div class=\"sk-estimator sk-toggleable\"><input class=\"sk-toggleable__control sk-hidden--visually\" id=\"sk-estimator-id-7\" type=\"checkbox\" ><label for=\"sk-estimator-id-7\" class=\"sk-toggleable__label sk-toggleable__label-arrow\">PolynomialFeatures</label><div class=\"sk-toggleable__content\"><pre>PolynomialFeatures(include_bias=False)</pre></div></div></div><div class=\"sk-item\"><div class=\"sk-estimator sk-toggleable\"><input class=\"sk-toggleable__control sk-hidden--visually\" id=\"sk-estimator-id-8\" type=\"checkbox\" ><label for=\"sk-estimator-id-8\" class=\"sk-toggleable__label sk-toggleable__label-arrow\">LinearRegression</label><div class=\"sk-toggleable__content\"><pre>LinearRegression()</pre></div></div></div></div></div></div></div>"
      ],
      "text/plain": [
       "Pipeline(steps=[('scale', StandardScaler()),\n",
       "                ('polynomial', PolynomialFeatures(include_bias=False)),\n",
       "                ('model', LinearRegression())])"
      ]
     },
     "execution_count": 95,
     "metadata": {},
     "output_type": "execute_result"
    }
   ],
   "source": [
    "pipe.fit(x,y)"
   ]
  },
  {
   "cell_type": "code",
   "execution_count": 96,
   "metadata": {
    "collapsed": false,
    "jupyter": {
     "outputs_hidden": false
    }
   },
   "outputs": [
    {
     "data": {
      "text/plain": [
       "0.9436448306684645"
      ]
     },
     "execution_count": 96,
     "metadata": {},
     "output_type": "execute_result"
    }
   ],
   "source": [
    "pipe.score(x,y)"
   ]
  },
  {
   "cell_type": "markdown",
   "metadata": {},
   "source": [
    "# Module 5: Model Evaluation and Refinement\n"
   ]
  },
  {
   "cell_type": "markdown",
   "metadata": {},
   "source": [
    "Import the necessary modules:\n"
   ]
  },
  {
   "cell_type": "code",
   "execution_count": 97,
   "metadata": {
    "collapsed": false,
    "jupyter": {
     "outputs_hidden": false
    }
   },
   "outputs": [
    {
     "name": "stdout",
     "output_type": "stream",
     "text": [
      "done\n"
     ]
    }
   ],
   "source": [
    "from sklearn.model_selection import cross_val_score\n",
    "from sklearn.model_selection import train_test_split\n",
    "print(\"done\")"
   ]
  },
  {
   "cell_type": "markdown",
   "metadata": {},
   "source": [
    "We will split the data into training and testing sets:\n"
   ]
  },
  {
   "cell_type": "code",
   "execution_count": 99,
   "metadata": {
    "collapsed": false,
    "jupyter": {
     "outputs_hidden": false
    }
   },
   "outputs": [
    {
     "name": "stdout",
     "output_type": "stream",
     "text": [
      "number of test samples: 150\n",
      "number of training samples: 850\n"
     ]
    }
   ],
   "source": [
    "features =[\"fare_low\", \"nsmiles\",\"fare_lg\"]    \n",
    "X = df[features]\n",
    "Y = df['fare']\n",
    "\n",
    "x_train, x_test, y_train, y_test = train_test_split(X, Y, test_size=0.15, random_state=1)\n",
    "\n",
    "\n",
    "print(\"number of test samples:\", x_test.shape[0])\n",
    "print(\"number of training samples:\",x_train.shape[0])"
   ]
  },
  {
   "cell_type": "markdown",
   "metadata": {},
   "source": [
    "### \n",
    "\n",
    "Create and fit a Ridge regression object using the training data, set the regularization parameter to 0.1, and calculate the R^2 using the test data.\n"
   ]
  },
  {
   "cell_type": "code",
   "execution_count": 100,
   "metadata": {},
   "outputs": [],
   "source": [
    "from sklearn.linear_model import Ridge"
   ]
  },
  {
   "cell_type": "code",
   "execution_count": 101,
   "metadata": {
    "collapsed": false,
    "jupyter": {
     "outputs_hidden": false
    }
   },
   "outputs": [
    {
     "data": {
      "text/plain": [
       "0.933997772911022"
      ]
     },
     "execution_count": 101,
     "metadata": {},
     "output_type": "execute_result"
    }
   ],
   "source": [
    "Model = Ridge(alpha=0.1)\n",
    "Model.fit(x_train, y_train)\n",
    "Model.score(x_test, y_test)"
   ]
  },
  {
   "cell_type": "markdown",
   "metadata": {},
   "source": [
    "### \n",
    "\n",
    "Perform a second order polynomial transform on both the training data and testing data. Create and fit a Ridge regression object using the training data, set the regularisation parameter to 0.1, and calculate the R^2 utilising the test data provided. Take a screenshot of your code and the R^2.\n"
   ]
  },
  {
   "cell_type": "code",
   "execution_count": 102,
   "metadata": {
    "collapsed": false,
    "jupyter": {
     "outputs_hidden": false
    }
   },
   "outputs": [
    {
     "data": {
      "text/plain": [
       "0.952247933528518"
      ]
     },
     "execution_count": 102,
     "metadata": {},
     "output_type": "execute_result"
    }
   ],
   "source": [
    "pr = PolynomialFeatures(degree=2, include_bias=False)\n",
    "pn_x_train = pr.fit_transform(x_train)\n",
    "pn_x_test = pr.transform(x_test)\n",
    "RM = Ridge(alpha=0.1)\n",
    "RM.fit(pn_x_train, y_train)\n",
    "RM.score(pn_x_test, y_test)"
   ]
  }
 ],
 "metadata": {
  "kernelspec": {
   "display_name": "Python 3 (ipykernel)",
   "language": "python",
   "name": "python3"
  },
  "language_info": {
   "codemirror_mode": {
    "name": "ipython",
    "version": 3
   },
   "file_extension": ".py",
   "mimetype": "text/x-python",
   "name": "python",
   "nbconvert_exporter": "python",
   "pygments_lexer": "ipython3",
   "version": "3.9.7"
  },
  "widgets": {
   "state": {},
   "version": "1.1.2"
  }
 },
 "nbformat": 4,
 "nbformat_minor": 4
}
